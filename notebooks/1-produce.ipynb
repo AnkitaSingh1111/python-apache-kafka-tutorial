{
 "cells": [
  {
   "cell_type": "markdown",
   "metadata": {},
   "source": [
    "# Produce messages to an Apache Kafka topic\n",
    "\n",
    "In this notebook you will learn how to produce messages to an Apache Kafka topic\n",
    "\n",
    "![Produce messages to an Apache Kafka Topic](../img/produce.png)\n",
    "\n",
    "---\n",
    "\n",
    "## Prerequisites\n",
    "\n",
    "To start the tutorial you need to:\n",
    "\n",
    "* Download the Aiven for Apache Kafka SSL certificates as mentioned in the [README instructions](../README.md#Download-the-required-SSL-certificates)\n",
    "* Retrieve the Aiven for Apache Kafka hostname and port, from the [Aiven Console](https://console.aiven.io/) in the Aiven for Apache Kafka service overview\n",
    "* Substitute the Apache Kafka hostname and port in the parameters below"
   ]
  },
  {
   "cell_type": "code",
   "execution_count": 44,
   "metadata": {},
   "outputs": [],
   "source": [
    "# Replace the following two placeholders with Aiven for Apache Kafka service hostname and port\n",
    "\n",
    "hostname=\"kafka-28bf66cd-ankitasingh9630-a815.a.aivencloud.com\"\n",
    "port=\"15195\""
   ]
  },
  {
   "cell_type": "markdown",
   "metadata": {},
   "source": [
    "---\n",
    "\n",
    "### Install the required libraries\n",
    "\n",
    "The following installs the [kafka-python library](https://kafka-python.readthedocs.io/en/master/) we'll use for the tutorial"
   ]
  },
  {
   "cell_type": "code",
   "execution_count": 54,
   "metadata": {},
   "outputs": [
    {
     "name": "stderr",
     "output_type": "stream",
     "text": [
      "5034.65s - pydevd: Sending message related to process being replaced timed-out after 5 seconds\n"
     ]
    },
    {
     "name": "stdout",
     "output_type": "stream",
     "text": [
      "Defaulting to user installation because normal site-packages is not writeable\n",
      "Requirement already satisfied: confluent-kafka in /workspace/.pyenv_mirror/user/current/lib/python3.10/site-packages (2.2.0)\n",
      "Note: you may need to restart the kernel to use updated packages.\n"
     ]
    }
   ],
   "source": [
    "%pip install confluent-kafka"
   ]
  },
  {
   "cell_type": "markdown",
   "metadata": {},
   "source": [
    "---\n",
    "\n",
    "## Create an Apache Kafka producer\n",
    "\n",
    "The next step is to configure the Kafka producer."
   ]
  },
  {
   "cell_type": "code",
   "execution_count": 55,
   "metadata": {},
   "outputs": [
    {
     "ename": "NameError",
     "evalue": "name 'json_serializer' is not defined",
     "output_type": "error",
     "traceback": [
      "\u001b[0;31m---------------------------------------------------------------------------\u001b[0m",
      "\u001b[0;31mNameError\u001b[0m                                 Traceback (most recent call last)",
      "\u001b[1;32m/workspace/python-apache-kafka-tutorial/notebooks/1-produce.ipynb Cell 6\u001b[0m line \u001b[0;36m2\n\u001b[1;32m     <a href='vscode-notebook-cell://aivenlabs-pythonapachek-whlrr4b1l0a.ws-us105.gitpod.io/workspace/python-apache-kafka-tutorial/notebooks/1-produce.ipynb#X13sdnNjb2RlLXJlbW90ZQ%3D%3D?line=10'>11</a>\u001b[0m sensor_value \u001b[39m=\u001b[39m \u001b[39mround\u001b[39m(random\u001b[39m.\u001b[39muniform(\u001b[39m0\u001b[39m, \u001b[39m100\u001b[39m), \u001b[39m2\u001b[39m)\n\u001b[1;32m     <a href='vscode-notebook-cell://aivenlabs-pythonapachek-whlrr4b1l0a.ws-us105.gitpod.io/workspace/python-apache-kafka-tutorial/notebooks/1-produce.ipynb#X13sdnNjb2RlLXJlbW90ZQ%3D%3D?line=11'>12</a>\u001b[0m timestamp \u001b[39m=\u001b[39m datetime\u001b[39m.\u001b[39mnow()\u001b[39m.\u001b[39misoformat()\n\u001b[1;32m     <a href='vscode-notebook-cell://aivenlabs-pythonapachek-whlrr4b1l0a.ws-us105.gitpod.io/workspace/python-apache-kafka-tutorial/notebooks/1-produce.ipynb#X13sdnNjb2RlLXJlbW90ZQ%3D%3D?line=15'>16</a>\u001b[0m conf \u001b[39m=\u001b[39m {\n\u001b[1;32m     <a href='vscode-notebook-cell://aivenlabs-pythonapachek-whlrr4b1l0a.ws-us105.gitpod.io/workspace/python-apache-kafka-tutorial/notebooks/1-produce.ipynb#X13sdnNjb2RlLXJlbW90ZQ%3D%3D?line=16'>17</a>\u001b[0m     \u001b[39m'\u001b[39m\u001b[39mbootstrap.servers\u001b[39m\u001b[39m'\u001b[39m: hostname\u001b[39m+\u001b[39m\u001b[39m\"\u001b[39m\u001b[39m:\u001b[39m\u001b[39m\"\u001b[39m\u001b[39m+\u001b[39mport,\n\u001b[1;32m     <a href='vscode-notebook-cell://aivenlabs-pythonapachek-whlrr4b1l0a.ws-us105.gitpod.io/workspace/python-apache-kafka-tutorial/notebooks/1-produce.ipynb#X13sdnNjb2RlLXJlbW90ZQ%3D%3D?line=17'>18</a>\u001b[0m     \u001b[39m'\u001b[39m\u001b[39mclient.id\u001b[39m\u001b[39m'\u001b[39m: \u001b[39m'\u001b[39m\u001b[39mmyclient\u001b[39m\u001b[39m'\u001b[39m,\n\u001b[1;32m     <a href='vscode-notebook-cell://aivenlabs-pythonapachek-whlrr4b1l0a.ws-us105.gitpod.io/workspace/python-apache-kafka-tutorial/notebooks/1-produce.ipynb#X13sdnNjb2RlLXJlbW90ZQ%3D%3D?line=18'>19</a>\u001b[0m     \u001b[39m'\u001b[39m\u001b[39msecurity.protocol\u001b[39m\u001b[39m'\u001b[39m: \u001b[39m'\u001b[39m\u001b[39mSSL\u001b[39m\u001b[39m'\u001b[39m,\n\u001b[1;32m     <a href='vscode-notebook-cell://aivenlabs-pythonapachek-whlrr4b1l0a.ws-us105.gitpod.io/workspace/python-apache-kafka-tutorial/notebooks/1-produce.ipynb#X13sdnNjb2RlLXJlbW90ZQ%3D%3D?line=19'>20</a>\u001b[0m     \u001b[39m'\u001b[39m\u001b[39mssl.ca.location\u001b[39m\u001b[39m'\u001b[39m: \u001b[39m'\u001b[39m\u001b[39m../sslcerts/ca.pem\u001b[39m\u001b[39m'\u001b[39m,\n\u001b[1;32m     <a href='vscode-notebook-cell://aivenlabs-pythonapachek-whlrr4b1l0a.ws-us105.gitpod.io/workspace/python-apache-kafka-tutorial/notebooks/1-produce.ipynb#X13sdnNjb2RlLXJlbW90ZQ%3D%3D?line=20'>21</a>\u001b[0m     \u001b[39m'\u001b[39m\u001b[39mssl.certificate.location\u001b[39m\u001b[39m'\u001b[39m: \u001b[39m'\u001b[39m\u001b[39m../sslcerts/service.cert\u001b[39m\u001b[39m'\u001b[39m,\n\u001b[1;32m     <a href='vscode-notebook-cell://aivenlabs-pythonapachek-whlrr4b1l0a.ws-us105.gitpod.io/workspace/python-apache-kafka-tutorial/notebooks/1-produce.ipynb#X13sdnNjb2RlLXJlbW90ZQ%3D%3D?line=21'>22</a>\u001b[0m     \u001b[39m'\u001b[39m\u001b[39mssl.key.location\u001b[39m\u001b[39m'\u001b[39m: \u001b[39m'\u001b[39m\u001b[39m../sslcerts/service.key\u001b[39m\u001b[39m'\u001b[39m, \n\u001b[0;32m---> <a href='vscode-notebook-cell://aivenlabs-pythonapachek-whlrr4b1l0a.ws-us105.gitpod.io/workspace/python-apache-kafka-tutorial/notebooks/1-produce.ipynb#X13sdnNjb2RlLXJlbW90ZQ%3D%3D?line=22'>23</a>\u001b[0m     \u001b[39m'\u001b[39m\u001b[39mvalue.serializer\u001b[39m\u001b[39m'\u001b[39m: json_serializer,\n\u001b[1;32m     <a href='vscode-notebook-cell://aivenlabs-pythonapachek-whlrr4b1l0a.ws-us105.gitpod.io/workspace/python-apache-kafka-tutorial/notebooks/1-produce.ipynb#X13sdnNjb2RlLXJlbW90ZQ%3D%3D?line=23'>24</a>\u001b[0m     \u001b[39m'\u001b[39m\u001b[39mkey.serializer\u001b[39m\u001b[39m'\u001b[39m: json_serializer,\n\u001b[1;32m     <a href='vscode-notebook-cell://aivenlabs-pythonapachek-whlrr4b1l0a.ws-us105.gitpod.io/workspace/python-apache-kafka-tutorial/notebooks/1-produce.ipynb#X13sdnNjb2RlLXJlbW90ZQ%3D%3D?line=24'>25</a>\u001b[0m   \n\u001b[1;32m     <a href='vscode-notebook-cell://aivenlabs-pythonapachek-whlrr4b1l0a.ws-us105.gitpod.io/workspace/python-apache-kafka-tutorial/notebooks/1-produce.ipynb#X13sdnNjb2RlLXJlbW90ZQ%3D%3D?line=25'>26</a>\u001b[0m     }\n\u001b[1;32m     <a href='vscode-notebook-cell://aivenlabs-pythonapachek-whlrr4b1l0a.ws-us105.gitpod.io/workspace/python-apache-kafka-tutorial/notebooks/1-produce.ipynb#X13sdnNjb2RlLXJlbW90ZQ%3D%3D?line=33'>34</a>\u001b[0m producer \u001b[39m=\u001b[39m SerializingProducer(conf)\n",
      "\u001b[0;31mNameError\u001b[0m: name 'json_serializer' is not defined"
     ]
    }
   ],
   "source": [
    "import json\n",
    "import random\n",
    "import uuid\n",
    "from datetime import datetime\n",
    "\n",
    "from confluent_kafka import SerializingProducer\n",
    "\n",
    "event_id = uuid.uuid4()\n",
    "random_uuid_str = str(random_uuid)\n",
    "message_value = 'Successfully receiving messages'  \n",
    "sensor_value = round(random.uniform(0, 100), 2)\n",
    "timestamp = datetime.now().isoformat()\n",
    "     \n",
    "    \n",
    "\n",
    "conf = {\n",
    "    'bootstrap.servers': hostname+\":\"+port,\n",
    "    'client.id': 'myclient',\n",
    "    'security.protocol': 'SSL',\n",
    "    'ssl.ca.location': '../sslcerts/ca.pem',\n",
    "    'ssl.certificate.location': '../sslcerts/service.cert',\n",
    "    'ssl.key.location': '../sslcerts/service.key', \n",
    "    'value.serializer': json_serializer,\n",
    "    'key.serializer': json_serializer,\n",
    "  \n",
    "    }\n",
    "    \n",
    "\n",
    "\n",
    "\n",
    "    \n",
    "\n",
    "\n",
    "producer = SerializingProducer(conf)"
   ]
  },
  {
   "cell_type": "markdown",
   "metadata": {},
   "source": [
    "---\n",
    "## Push your first message to the `pizzas` topic\n",
    "\n",
    "In the below section we're pushing the first message to the `pizzas` topic.\n",
    "\n",
    "> Note that we're producing data to a topic named `pizzas`, you need to have the topic created beforehand in Apache Kafka or the `kafka.auto_create_topics_enable` parameter enabled\n",
    "\n",
    "The `flush` function ensures that the message is sent to Kafka"
   ]
  },
  {
   "cell_type": "code",
   "execution_count": null,
   "metadata": {},
   "outputs": [
    {
     "ename": "KeySerializationError",
     "evalue": "KafkaError{code=_KEY_SERIALIZATION,val=-162,str=\"'str' object is not callable\"}",
     "output_type": "error",
     "traceback": [
      "\u001b[0;31m---------------------------------------------------------------------------\u001b[0m",
      "\u001b[0;31mTypeError\u001b[0m                                 Traceback (most recent call last)",
      "File \u001b[0;32m/workspace/.pyenv_mirror/user/current/lib/python3.10/site-packages/confluent_kafka/serializing_producer.py:132\u001b[0m, in \u001b[0;36mSerializingProducer.produce\u001b[0;34m(self, topic, key, value, partition, on_delivery, timestamp, headers)\u001b[0m\n\u001b[1;32m    131\u001b[0m \u001b[39mtry\u001b[39;00m:\n\u001b[0;32m--> 132\u001b[0m     key \u001b[39m=\u001b[39m \u001b[39mself\u001b[39;49m\u001b[39m.\u001b[39;49m_key_serializer(key, ctx)\n\u001b[1;32m    133\u001b[0m \u001b[39mexcept\u001b[39;00m \u001b[39mException\u001b[39;00m \u001b[39mas\u001b[39;00m se:\n",
      "\u001b[0;31mTypeError\u001b[0m: 'str' object is not callable",
      "\nDuring handling of the above exception, another exception occurred:\n",
      "\u001b[0;31mKeySerializationError\u001b[0m                     Traceback (most recent call last)",
      "\u001b[1;32m/workspace/python-apache-kafka-tutorial/notebooks/1-produce.ipynb Cell 8\u001b[0m line \u001b[0;36m1\n\u001b[0;32m----> <a href='vscode-notebook-cell://aivenlabs-pythonapachek-whlrr4b1l0a.ws-us105.gitpod.io/workspace/python-apache-kafka-tutorial/notebooks/1-produce.ipynb#X10sdnNjb2RlLXJlbW90ZQ%3D%3D?line=0'>1</a>\u001b[0m producer\u001b[39m.\u001b[39;49mproduce(\n\u001b[1;32m      <a href='vscode-notebook-cell://aivenlabs-pythonapachek-whlrr4b1l0a.ws-us105.gitpod.io/workspace/python-apache-kafka-tutorial/notebooks/1-produce.ipynb#X10sdnNjb2RlLXJlbW90ZQ%3D%3D?line=1'>2</a>\u001b[0m     \u001b[39m\"\u001b[39;49m\u001b[39mpizzas\u001b[39;49m\u001b[39m\"\u001b[39;49m,\n\u001b[1;32m      <a href='vscode-notebook-cell://aivenlabs-pythonapachek-whlrr4b1l0a.ws-us105.gitpod.io/workspace/python-apache-kafka-tutorial/notebooks/1-produce.ipynb#X10sdnNjb2RlLXJlbW90ZQ%3D%3D?line=2'>3</a>\u001b[0m     key\u001b[39m=\u001b[39;49m{\u001b[39m\"\u001b[39;49m\u001b[39mid\u001b[39;49m\u001b[39m\"\u001b[39;49m:\u001b[39m1\u001b[39;49m},\n\u001b[1;32m      <a href='vscode-notebook-cell://aivenlabs-pythonapachek-whlrr4b1l0a.ws-us105.gitpod.io/workspace/python-apache-kafka-tutorial/notebooks/1-produce.ipynb#X10sdnNjb2RlLXJlbW90ZQ%3D%3D?line=3'>4</a>\u001b[0m     value\u001b[39m=\u001b[39;49m{\u001b[39m\"\u001b[39;49m\u001b[39mid\u001b[39;49m\u001b[39m\"\u001b[39;49m:\u001b[39m1\u001b[39;49m, \u001b[39m\"\u001b[39;49m\u001b[39mname\u001b[39;49m\u001b[39m\"\u001b[39;49m:\u001b[39m\"\u001b[39;49m\u001b[39m👨 Francesco\u001b[39;49m\u001b[39m\"\u001b[39;49m, \u001b[39m\"\u001b[39;49m\u001b[39mpizza\u001b[39;49m\u001b[39m\"\u001b[39;49m:\u001b[39m\"\u001b[39;49m\u001b[39mMargherita 🍕\u001b[39;49m\u001b[39m\"\u001b[39;49m}\n\u001b[1;32m      <a href='vscode-notebook-cell://aivenlabs-pythonapachek-whlrr4b1l0a.ws-us105.gitpod.io/workspace/python-apache-kafka-tutorial/notebooks/1-produce.ipynb#X10sdnNjb2RlLXJlbW90ZQ%3D%3D?line=4'>5</a>\u001b[0m )\n\u001b[1;32m      <a href='vscode-notebook-cell://aivenlabs-pythonapachek-whlrr4b1l0a.ws-us105.gitpod.io/workspace/python-apache-kafka-tutorial/notebooks/1-produce.ipynb#X10sdnNjb2RlLXJlbW90ZQ%3D%3D?line=6'>7</a>\u001b[0m producer\u001b[39m.\u001b[39mflush()\n",
      "File \u001b[0;32m/workspace/.pyenv_mirror/user/current/lib/python3.10/site-packages/confluent_kafka/serializing_producer.py:134\u001b[0m, in \u001b[0;36mSerializingProducer.produce\u001b[0;34m(self, topic, key, value, partition, on_delivery, timestamp, headers)\u001b[0m\n\u001b[1;32m    132\u001b[0m         key \u001b[39m=\u001b[39m \u001b[39mself\u001b[39m\u001b[39m.\u001b[39m_key_serializer(key, ctx)\n\u001b[1;32m    133\u001b[0m     \u001b[39mexcept\u001b[39;00m \u001b[39mException\u001b[39;00m \u001b[39mas\u001b[39;00m se:\n\u001b[0;32m--> 134\u001b[0m         \u001b[39mraise\u001b[39;00m KeySerializationError(se)\n\u001b[1;32m    135\u001b[0m ctx\u001b[39m.\u001b[39mfield \u001b[39m=\u001b[39m MessageField\u001b[39m.\u001b[39mVALUE\n\u001b[1;32m    136\u001b[0m \u001b[39mif\u001b[39;00m \u001b[39mself\u001b[39m\u001b[39m.\u001b[39m_value_serializer \u001b[39mis\u001b[39;00m \u001b[39mnot\u001b[39;00m \u001b[39mNone\u001b[39;00m:\n",
      "\u001b[0;31mKeySerializationError\u001b[0m: KafkaError{code=_KEY_SERIALIZATION,val=-162,str=\"'str' object is not callable\"}"
     ]
    }
   ],
   "source": [
    "producer.produce(\n",
    "    \"IoT_Events\",\n",
    "    key={\"id\":5},\n",
    "    value={\"event_id\": random_uuid_str, \"sensor_type\": \"temperature\", \"sensor_value\": sensor_value, \"timestamp\": timestamp}\n",
    ")\n",
    "\n",
    "producer.flush()"
   ]
  },
  {
   "cell_type": "markdown",
   "metadata": {},
   "source": [
    "---\n",
    "\n",
    "## Produce more messages\n",
    "\n"
   ]
  },
  {
   "cell_type": "code",
   "execution_count": null,
   "metadata": {},
   "outputs": [
    {
     "ename": "KeySerializationError",
     "evalue": "KafkaError{code=_KEY_SERIALIZATION,val=-162,str=\"'str' object is not callable\"}",
     "output_type": "error",
     "traceback": [
      "\u001b[0;31m---------------------------------------------------------------------------\u001b[0m",
      "\u001b[0;31mTypeError\u001b[0m                                 Traceback (most recent call last)",
      "File \u001b[0;32m/workspace/.pyenv_mirror/user/current/lib/python3.10/site-packages/confluent_kafka/serializing_producer.py:132\u001b[0m, in \u001b[0;36mSerializingProducer.produce\u001b[0;34m(self, topic, key, value, partition, on_delivery, timestamp, headers)\u001b[0m\n\u001b[1;32m    131\u001b[0m \u001b[39mtry\u001b[39;00m:\n\u001b[0;32m--> 132\u001b[0m     key \u001b[39m=\u001b[39m \u001b[39mself\u001b[39;49m\u001b[39m.\u001b[39;49m_key_serializer(key, ctx)\n\u001b[1;32m    133\u001b[0m \u001b[39mexcept\u001b[39;00m \u001b[39mException\u001b[39;00m \u001b[39mas\u001b[39;00m se:\n",
      "\u001b[0;31mTypeError\u001b[0m: 'str' object is not callable",
      "\nDuring handling of the above exception, another exception occurred:\n",
      "\u001b[0;31mKeySerializationError\u001b[0m                     Traceback (most recent call last)",
      "\u001b[1;32m/workspace/python-apache-kafka-tutorial/notebooks/1-produce.ipynb Cell 10\u001b[0m line \u001b[0;36m1\n\u001b[0;32m----> <a href='vscode-notebook-cell://aivenlabs-pythonapachek-whlrr4b1l0a.ws-us105.gitpod.io/workspace/python-apache-kafka-tutorial/notebooks/1-produce.ipynb#X12sdnNjb2RlLXJlbW90ZQ%3D%3D?line=0'>1</a>\u001b[0m producer\u001b[39m.\u001b[39;49mproduce(\n\u001b[1;32m      <a href='vscode-notebook-cell://aivenlabs-pythonapachek-whlrr4b1l0a.ws-us105.gitpod.io/workspace/python-apache-kafka-tutorial/notebooks/1-produce.ipynb#X12sdnNjb2RlLXJlbW90ZQ%3D%3D?line=1'>2</a>\u001b[0m     \u001b[39m\"\u001b[39;49m\u001b[39mdata\u001b[39;49m\u001b[39m\"\u001b[39;49m,\n\u001b[1;32m      <a href='vscode-notebook-cell://aivenlabs-pythonapachek-whlrr4b1l0a.ws-us105.gitpod.io/workspace/python-apache-kafka-tutorial/notebooks/1-produce.ipynb#X12sdnNjb2RlLXJlbW90ZQ%3D%3D?line=2'>3</a>\u001b[0m     key\u001b[39m=\u001b[39;49m{\u001b[39m\"\u001b[39;49m\u001b[39mid\u001b[39;49m\u001b[39m\"\u001b[39;49m:\u001b[39m5\u001b[39;49m},\n\u001b[1;32m      <a href='vscode-notebook-cell://aivenlabs-pythonapachek-whlrr4b1l0a.ws-us105.gitpod.io/workspace/python-apache-kafka-tutorial/notebooks/1-produce.ipynb#X12sdnNjb2RlLXJlbW90ZQ%3D%3D?line=3'>4</a>\u001b[0m     value\u001b[39m=\u001b[39;49m{\u001b[39m\"\u001b[39;49m\u001b[39mid\u001b[39;49m\u001b[39m\"\u001b[39;49m:random_uuid_str, \u001b[39m\"\u001b[39;49m\u001b[39mmsg\u001b[39;49m\u001b[39m\"\u001b[39;49m: message_value, \u001b[39m\"\u001b[39;49m\u001b[39mpizza\u001b[39;49m\u001b[39m\"\u001b[39;49m:\u001b[39m\"\u001b[39;49m\u001b[39mshalu\u001b[39;49m\u001b[39m\"\u001b[39;49m}\n\u001b[1;32m      <a href='vscode-notebook-cell://aivenlabs-pythonapachek-whlrr4b1l0a.ws-us105.gitpod.io/workspace/python-apache-kafka-tutorial/notebooks/1-produce.ipynb#X12sdnNjb2RlLXJlbW90ZQ%3D%3D?line=4'>5</a>\u001b[0m )\n\u001b[1;32m      <a href='vscode-notebook-cell://aivenlabs-pythonapachek-whlrr4b1l0a.ws-us105.gitpod.io/workspace/python-apache-kafka-tutorial/notebooks/1-produce.ipynb#X12sdnNjb2RlLXJlbW90ZQ%3D%3D?line=7'>8</a>\u001b[0m producer\u001b[39m.\u001b[39mflush()\n",
      "File \u001b[0;32m/workspace/.pyenv_mirror/user/current/lib/python3.10/site-packages/confluent_kafka/serializing_producer.py:134\u001b[0m, in \u001b[0;36mSerializingProducer.produce\u001b[0;34m(self, topic, key, value, partition, on_delivery, timestamp, headers)\u001b[0m\n\u001b[1;32m    132\u001b[0m         key \u001b[39m=\u001b[39m \u001b[39mself\u001b[39m\u001b[39m.\u001b[39m_key_serializer(key, ctx)\n\u001b[1;32m    133\u001b[0m     \u001b[39mexcept\u001b[39;00m \u001b[39mException\u001b[39;00m \u001b[39mas\u001b[39;00m se:\n\u001b[0;32m--> 134\u001b[0m         \u001b[39mraise\u001b[39;00m KeySerializationError(se)\n\u001b[1;32m    135\u001b[0m ctx\u001b[39m.\u001b[39mfield \u001b[39m=\u001b[39m MessageField\u001b[39m.\u001b[39mVALUE\n\u001b[1;32m    136\u001b[0m \u001b[39mif\u001b[39;00m \u001b[39mself\u001b[39m\u001b[39m.\u001b[39m_value_serializer \u001b[39mis\u001b[39;00m \u001b[39mnot\u001b[39;00m \u001b[39mNone\u001b[39;00m:\n",
      "\u001b[0;31mKeySerializationError\u001b[0m: KafkaError{code=_KEY_SERIALIZATION,val=-162,str=\"'str' object is not callable\"}"
     ]
    }
   ],
   "source": [
    "producer.produce(\n",
    "    \"data\",\n",
    "    key={\"id\":5},\n",
    "    value={\"id\":random_uuid_str, \"msg\": message_value, \"pizza\":\"shalu\"}\n",
    ")\n",
    "\n",
    "\n",
    "producer.flush()"
   ]
  }
 ],
 "metadata": {
  "kernelspec": {
   "display_name": "Python 3 (ipykernel)",
   "language": "python",
   "name": "python3"
  },
  "language_info": {
   "codemirror_mode": {
    "name": "ipython",
    "version": 3
   },
   "file_extension": ".py",
   "mimetype": "text/x-python",
   "name": "python",
   "nbconvert_exporter": "python",
   "pygments_lexer": "ipython3",
   "version": "3.10.12"
  }
 },
 "nbformat": 4,
 "nbformat_minor": 4
}
